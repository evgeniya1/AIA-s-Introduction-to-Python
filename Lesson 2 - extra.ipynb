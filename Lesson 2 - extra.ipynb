{
 "cells": [
  {
   "cell_type": "markdown",
   "id": "geographic-version",
   "metadata": {},
   "source": [
    "# Branching Programs and Control Flow\n",
    "\n",
    "The kinds of computations we have been looking at thus far are called <b>straight-line programs.</b> They execute one statement after another in the order in which they appear, and stop when the run out of statements. The kinds of computations we can describe with straight-line programs are not very interesting. In fact they are downright boring.\n",
    "\n",
    "<b>Branching</b> programs are more interesting. The simplest branching statment is <b>conditional.</b> A conditional statement has three parts:\n",
    "\n",
    "- <b>TEST</b> An expression that evaluates to either <b>True</b> or <b>False</b>\n",
    "- <b>IF TRUE</b> A block of code that is executed if the test evaluates to <b>True</b>\n",
    "- <b>IF FALSE</b> A block of code that is executed if the test evaluatges to <b>False</b>\n",
    "<p><b>EXAMPLE:</b> A test to see if x is even or odd</p>\n",
    "\n",
    "The expression <b>%2 == 0</b> evaluates to <b>True</b> when the remainder of <b>x</b> divided by <b>2</b> is <b>0</b>, and <b>False</b> otherwise."
   ]
  },
  {
   "cell_type": "code",
   "execution_count": 1,
   "id": "weird-reducing",
   "metadata": {},
   "outputs": [
    {
     "name": "stdout",
     "output_type": "stream",
     "text": [
      "0\n"
     ]
    }
   ],
   "source": [
    "#Assign the value of x\n",
    "x = 2\n",
    "\n",
    "#Look at the vlue of x%2\n",
    "print(x % 2)"
   ]
  },
  {
   "cell_type": "code",
   "execution_count": 2,
   "id": "meaningful-foundation",
   "metadata": {},
   "outputs": [
    {
     "name": "stdout",
     "output_type": "stream",
     "text": [
      "Even\n"
     ]
    }
   ],
   "source": [
    "if x % 2 == 0:\n",
    "    print('Even')\n",
    "    \n",
    "else:\n",
    "    print('Odd')"
   ]
  },
  {
   "cell_type": "markdown",
   "id": "collective-puppy",
   "metadata": {},
   "source": [
    "## Indentation\n",
    "Indentation is semantically meaningful in Python. For example, if the last statement in the above code were indented it would part of the block of code associated with the else, rather than the block of code following the conditional assignment.\n",
    "\n",
    "## Nested Conditional Statements\n",
    "When either the true block or the false block of a conditional contains another conditional, the conditional statements are said to be nested. In the code below, there are conditionals in both branches of the top-level if statements. The <b>elif</b> in the code below stands for, <b>\"else if.\"</b>"
   ]
  },
  {
   "cell_type": "code",
   "execution_count": 3,
   "id": "domestic-bottle",
   "metadata": {},
   "outputs": [
    {
     "name": "stdout",
     "output_type": "stream",
     "text": [
      "Divisible by 2 and not by 3\n"
     ]
    }
   ],
   "source": [
    "#Assign a value to x\n",
    "x = 2\n",
    "\n",
    "if x % 2 == 0:\n",
    "    if x % 3 == 0:\n",
    "        print('Divisible by 2 and 3')\n",
    "    else: \n",
    "        print('Divisible by 2 and not by 3')\n",
    "\n",
    "elif x % 3 == 0:\n",
    "    print('Divisible by 3 and not by 2')"
   ]
  },
  {
   "cell_type": "markdown",
   "id": "headed-teacher",
   "metadata": {},
   "source": [
    "## Compound Boolean Expressions \n",
    "You can use tests of conditional statements in Python"
   ]
  },
  {
   "cell_type": "code",
   "execution_count": 4,
   "id": "thrown-compatibility",
   "metadata": {},
   "outputs": [
    {
     "name": "stdout",
     "output_type": "stream",
     "text": [
      "x is least\n"
     ]
    }
   ],
   "source": [
    "#Assign values to x,y, and z\n",
    "x,y,z = 4,5,6\n",
    "\n",
    "if x < y and x < z:\n",
    "    print('x is least')\n",
    "elif y < z:\n",
    "    print('y is least')\n",
    "else: \n",
    "    print('z is least')"
   ]
  },
  {
   "cell_type": "markdown",
   "id": "funded-miami",
   "metadata": {},
   "source": [
    "## Try .. Except statements\n",
    "\n",
    "The try-except statements are used to handle errors and build more robust code. Try block lets you test a block of code for errors. The except block lets you handle the error. Finally block lets you execute code, regardless of the result of the try- and except blocks. Else block is executed in case no exceptions are raised.  "
   ]
  },
  {
   "cell_type": "code",
   "execution_count": 5,
   "id": "shaped-japan",
   "metadata": {},
   "outputs": [
    {
     "name": "stdout",
     "output_type": "stream",
     "text": [
      "Something went wrong\n"
     ]
    }
   ],
   "source": [
    "x = 1\n",
    "y = '2'\n",
    "\n",
    "try:\n",
    "    print(x < y)\n",
    "except:\n",
    "    print(\"Something went wrong\")\n",
    "else:\n",
    "    print(\"Nothing went wrong\")"
   ]
  },
  {
   "cell_type": "code",
   "execution_count": 6,
   "id": "local-chapter",
   "metadata": {},
   "outputs": [
    {
     "name": "stdout",
     "output_type": "stream",
     "text": [
      "Something went wrong\n",
      "This block of code is always executed\n"
     ]
    }
   ],
   "source": [
    "x = 1\n",
    "y = '2'\n",
    "\n",
    "try:\n",
    "    print(x < y)\n",
    "except:\n",
    "    print(\"Something went wrong\")\n",
    "finally:\n",
    "    print(\"This block of code is always executed\")"
   ]
  },
  {
   "cell_type": "markdown",
   "id": "lasting-wells",
   "metadata": {},
   "source": [
    "### Multiple exceptions"
   ]
  },
  {
   "cell_type": "code",
   "execution_count": 7,
   "id": "offshore-exhibition",
   "metadata": {},
   "outputs": [
    {
     "name": "stdout",
     "output_type": "stream",
     "text": [
      "True\n",
      "Nothing went wrong\n"
     ]
    }
   ],
   "source": [
    "#control error type\n",
    "\n",
    "x = 1\n",
    "y = '2'\n",
    "\n",
    "try:\n",
    "    print(x < z)\n",
    "except NameError:\n",
    "    print(\"A variable is not defined! NameError is raised.\")\n",
    "except TypeError:\n",
    "    print(\"Check variable type\")\n",
    "else:\n",
    "    print(\"Nothing went wrong\")"
   ]
  },
  {
   "cell_type": "code",
   "execution_count": 8,
   "id": "prime-fever",
   "metadata": {},
   "outputs": [
    {
     "name": "stdout",
     "output_type": "stream",
     "text": [
      "Check variable type! TypeError is raised.\n"
     ]
    }
   ],
   "source": [
    "#control error type\n",
    "\n",
    "x = 1\n",
    "y = '2'\n",
    "\n",
    "try:\n",
    "    print(x < y)\n",
    "except NameError:\n",
    "    print(\"A variable is not defined! NameError is raised.\")\n",
    "except TypeError:\n",
    "    print(\"Check variable type! TypeError is raised.\")\n",
    "else:\n",
    "    print(\"Nothing went wrong\")"
   ]
  },
  {
   "cell_type": "markdown",
   "id": "proper-celebrity",
   "metadata": {},
   "source": [
    "## Exercises: Control Flows\n",
    "\n",
    "### Exercise \\#1: understanding if...elif...else statements\n",
    "\n",
    "Please answer the questions before using the Jupyter notebook solve it. What is the output of the code below? After you have done that, try changing the temp variable to see the output you get."
   ]
  },
  {
   "cell_type": "code",
   "execution_count": 9,
   "id": "wooden-saying",
   "metadata": {},
   "outputs": [],
   "source": [
    "#your answer\n"
   ]
  },
  {
   "cell_type": "code",
   "execution_count": 12,
   "id": "modern-howard",
   "metadata": {},
   "outputs": [],
   "source": [
    "temp = 70\n",
    "\n",
    "if temp > 90:\n",
    "    print('{}F degrees is HOT in Texas'.format(temp))\n",
    "elif temp > 105:\n",
    "    print('{}F DEGREES IS REALLY HOT!'.format(temp))\n",
    "elif temp > 72:\n",
    "    print('{}F degrees is comfortable in Texas'.format(temp)) \n",
    "else:\n",
    "    print('{}F degrees is cold in Texas.'.format(temp))"
   ]
  },
  {
   "cell_type": "markdown",
   "id": "roman-causing",
   "metadata": {},
   "source": [
    "### Exercise \\#2: practice if...elif...else statements\n",
    "\n",
    "Write a program that examines three variables x, y, and z and prints the largest odd number among them. If none of them are odd, it should print a message to that effect. Hint: It's the apposite of the example above that is earlier in the lesson."
   ]
  },
  {
   "cell_type": "code",
   "execution_count": 11,
   "id": "liable-interaction",
   "metadata": {},
   "outputs": [],
   "source": [
    "#your code\n"
   ]
  },
  {
   "cell_type": "markdown",
   "id": "liberal-found",
   "metadata": {},
   "source": [
    "### Exercise \\#3: practice try...except...else statements\n",
    "\n",
    "Make code for previous exercise more robust by printing an error statement when x, y, and z are not specified or have wrong type, e.g. string.  Otherwise print the result on phrase: \"Nothing went wrong\"."
   ]
  },
  {
   "cell_type": "code",
   "execution_count": 17,
   "id": "particular-entrepreneur",
   "metadata": {},
   "outputs": [],
   "source": [
    "#your code\n"
   ]
  }
 ],
 "metadata": {
  "kernelspec": {
   "display_name": "Python 3",
   "language": "python",
   "name": "python3"
  },
  "language_info": {
   "codemirror_mode": {
    "name": "ipython",
    "version": 3
   },
   "file_extension": ".py",
   "mimetype": "text/x-python",
   "name": "python",
   "nbconvert_exporter": "python",
   "pygments_lexer": "ipython3",
   "version": "3.7.4"
  }
 },
 "nbformat": 4,
 "nbformat_minor": 5
}
