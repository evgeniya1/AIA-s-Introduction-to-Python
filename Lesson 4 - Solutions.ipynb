{
 "cells": [
  {
   "cell_type": "markdown",
   "id": "coordinate-distributor",
   "metadata": {},
   "source": [
    "# Lesson 4 - Importing Modules, Structured Types, Mutability: Solutions"
   ]
  },
  {
   "cell_type": "markdown",
   "id": "embedded-chase",
   "metadata": {},
   "source": [
    "### Exercise #1: calculate tangent using math module\n",
    "\n",
    "Write a Python code to calculate tangent of the value passed using math module. For example: tangent(pi/3) = 1.732"
   ]
  },
  {
   "cell_type": "code",
   "execution_count": 1,
   "id": "featured-redhead",
   "metadata": {},
   "outputs": [
    {
     "name": "stdout",
     "output_type": "stream",
     "text": [
      "tangent(pi/3) = 1.732\n"
     ]
    }
   ],
   "source": [
    "# your code\n",
    "from math import tan, pi\n",
    "\n",
    "theta = pi/3\n",
    "\n",
    "print(f'tangent(pi/3) = {tan(theta):.3f}')"
   ]
  },
  {
   "cell_type": "markdown",
   "id": "tender-switzerland",
   "metadata": {},
   "source": [
    "### Exercise #2: calculate hypotenuse using math module\n",
    "\n",
    "Write a Python code to calculate hypotenuse of two value passed using math module. For example: hypotenuse(3,4) = 5 "
   ]
  },
  {
   "cell_type": "code",
   "execution_count": 2,
   "id": "nasty-savings",
   "metadata": {},
   "outputs": [
    {
     "name": "stdout",
     "output_type": "stream",
     "text": [
      "hypotenuse(3,4) = 5\n"
     ]
    }
   ],
   "source": [
    "# your code\n",
    "from math import hypot\n",
    "\n",
    "print(f'hypotenuse(3,4) = {hypot(3,4):.0f}')"
   ]
  },
  {
   "cell_type": "markdown",
   "id": "changing-approach",
   "metadata": {},
   "source": [
    "### Exercise # 3: multiply list elements\n",
    "Write a Python program to multiplies all the items in a list by 2 using list comprehensions."
   ]
  },
  {
   "cell_type": "code",
   "execution_count": 3,
   "id": "classical-rochester",
   "metadata": {},
   "outputs": [
    {
     "data": {
      "text/plain": [
       "[8, 16, 4, 18, 2]"
      ]
     },
     "execution_count": 3,
     "metadata": {},
     "output_type": "execute_result"
    }
   ],
   "source": [
    "list_ = [4, 8, 2, 9, 1]\n",
    "\n",
    "#your code\n",
    "list_mul2 = [elem*2 for elem in list_]\n",
    "\n",
    "list_mul2"
   ]
  },
  {
   "cell_type": "markdown",
   "id": "surgical-model",
   "metadata": {},
   "source": [
    "### Exercise # 4: remove duplicates from a list\n",
    "Write a Python program to remove duplicates from a list. "
   ]
  },
  {
   "cell_type": "code",
   "execution_count": 4,
   "id": "fitted-democrat",
   "metadata": {},
   "outputs": [
    {
     "name": "stdout",
     "output_type": "stream",
     "text": [
      "[4, 8, 2, 9, 1]\n"
     ]
    }
   ],
   "source": [
    "list_ = [4, 8, 2, 9, 1, 8, 2, 1]\n",
    "\n",
    "#your code\n",
    "\n",
    "list_uniq = []\n",
    "for x in list_:\n",
    "    if x not in list_uniq:\n",
    "        list_uniq.append(x)\n",
    "\n",
    "print(list_uniq)"
   ]
  },
  {
   "cell_type": "markdown",
   "id": "adverse-large",
   "metadata": {},
   "source": [
    "### Exercise # 5: concatenate dictionaries\n",
    "\n",
    "Write a Python script to concatenate following dictionaries to create a new one. "
   ]
  },
  {
   "cell_type": "code",
   "execution_count": 5,
   "id": "insured-gates",
   "metadata": {},
   "outputs": [
    {
     "data": {
      "text/plain": [
       "{1: 'Jan',\n",
       " 2: 'Feb',\n",
       " 3: 'Mar',\n",
       " 4: 'Apr',\n",
       " 5: 'May',\n",
       " 6: 'June',\n",
       " 7: 'July',\n",
       " 8: 'Aug',\n",
       " 9: 'Sep',\n",
       " 10: 'Oct',\n",
       " 11: 'Nov',\n",
       " 12: 'Dec'}"
      ]
     },
     "execution_count": 5,
     "metadata": {},
     "output_type": "execute_result"
    }
   ],
   "source": [
    "dict_1 = {1:'Jan', 2:'Feb', 3:'Mar', 4:'Apr', 5:'May', 6:'June'}\n",
    "dict_2 = {7:'July', 8:'Aug', 9:'Sep', 10:'Oct', 11:'Nov', 12:'Dec'}\n",
    "\n",
    "#your code\n",
    "dict_all = {}\n",
    "for d in [dict_1, dict_2]:\n",
    "    dict_all.update(d)\n",
    "    \n",
    "dict_all"
   ]
  },
  {
   "cell_type": "markdown",
   "id": "fossil-deficit",
   "metadata": {},
   "source": [
    "### Exercise # 6: check element existence in dictionary\n",
    "Write a Python script to check whether a given key already exists in a dictionary."
   ]
  },
  {
   "cell_type": "code",
   "execution_count": 6,
   "id": "infectious-louisiana",
   "metadata": {},
   "outputs": [
    {
     "name": "stdout",
     "output_type": "stream",
     "text": [
      "Key is not present in the dictionary\n",
      "Key is present in the dictionary\n"
     ]
    }
   ],
   "source": [
    "dict_ = {'Jan':1, 'Feb':2, 'Mar':3, 'Apr':4, 'May':5}\n",
    "\n",
    "#your code\n",
    "def is_key_present(key, dict_):\n",
    "    if key in dict_:\n",
    "        print('Key is present in the dictionary')\n",
    "    else:\n",
    "        print('Key is not present in the dictionary')\n",
    "        \n",
    "\n",
    "#check if 'Jun' key exists in dict_\n",
    "is_key_present('Jun', dict_)\n",
    "\n",
    "#check if 'Feb' key exists in dict_\n",
    "is_key_present('Feb', dict_)"
   ]
  }
 ],
 "metadata": {
  "kernelspec": {
   "display_name": "Python 3",
   "language": "python",
   "name": "python3"
  },
  "language_info": {
   "codemirror_mode": {
    "name": "ipython",
    "version": 3
   },
   "file_extension": ".py",
   "mimetype": "text/x-python",
   "name": "python",
   "nbconvert_exporter": "python",
   "pygments_lexer": "ipython3",
   "version": "3.7.4"
  }
 },
 "nbformat": 4,
 "nbformat_minor": 5
}
