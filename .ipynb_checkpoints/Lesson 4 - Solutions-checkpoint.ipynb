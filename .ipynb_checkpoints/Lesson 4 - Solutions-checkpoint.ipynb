{
 "cells": [
  {
   "cell_type": "markdown",
   "id": "coordinate-distributor",
   "metadata": {},
   "source": [
    "# Lesson 4 - Importing Modules"
   ]
  },
  {
   "cell_type": "markdown",
   "id": "embedded-chase",
   "metadata": {},
   "source": [
    "### Exercise #1: calculate factorial of an integer using math module\n",
    "\n",
    "Write a Python code to calculate factorial of an integer value passed using math module. For example: factorial(3) = 6"
   ]
  },
  {
   "cell_type": "code",
   "execution_count": 1,
   "id": "featured-redhead",
   "metadata": {},
   "outputs": [
    {
     "name": "stdout",
     "output_type": "stream",
     "text": [
      "factorial(3) = 6\n"
     ]
    }
   ],
   "source": [
    "# your code\n",
    "from math import factorial\n",
    "\n",
    "\n",
    "print(f'factorial(3) = {factorial(3)}')"
   ]
  },
  {
   "cell_type": "markdown",
   "id": "tender-switzerland",
   "metadata": {},
   "source": [
    "### Exercise #2: calculate the greatest common divisor of two integers\n",
    "\n",
    "Write a Python code to calculate the greatest common divisor of two integers using math module. For example: gcd(24,32) = 8 "
   ]
  },
  {
   "cell_type": "code",
   "execution_count": 2,
   "id": "nasty-savings",
   "metadata": {},
   "outputs": [
    {
     "name": "stdout",
     "output_type": "stream",
     "text": [
      "greatest common divisor of 24 and 32 is 8\n"
     ]
    }
   ],
   "source": [
    "# your code\n",
    "from math import gcd\n",
    "\n",
    "print(f'greatest common divisor of 24 and 32 is {gcd(24,32)}')"
   ]
  }
 ],
 "metadata": {
  "kernelspec": {
   "display_name": "Python 3",
   "language": "python",
   "name": "python3"
  },
  "language_info": {
   "codemirror_mode": {
    "name": "ipython",
    "version": 3
   },
   "file_extension": ".py",
   "mimetype": "text/x-python",
   "name": "python",
   "nbconvert_exporter": "python",
   "pygments_lexer": "ipython3",
   "version": "3.7.4"
  }
 },
 "nbformat": 4,
 "nbformat_minor": 5
}
