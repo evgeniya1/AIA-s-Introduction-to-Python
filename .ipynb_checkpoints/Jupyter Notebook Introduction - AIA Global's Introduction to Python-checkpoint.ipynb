{
 "cells": [
  {
   "cell_type": "markdown",
   "id": "pointed-treasurer",
   "metadata": {},
   "source": [
    "# What is the Jupyter Notebook?\n",
    "\n",
    "The Jupyter Notebook is an interactive computing environment that allow users to combine live code, plots, videos, narrative text, equations, images and other rich media representations of an object in a single document that is great for collaboration. It has three component: a web application (live code), kernel (engine that executes code, e.g. default kerner runs Python), and notebook documents (media representations of objects). See official documentation: https://jupyter-notebook.readthedocs.io/en/latest/"
   ]
  },
  {
   "cell_type": "markdown",
   "id": "accredited-christopher",
   "metadata": {
    "hideOutput": true
   },
   "source": [
    "## Basics\n",
    "\n",
    "The Jupyter notebook is a web application that enables users to edit and run code from the browser as well as include descriptions and plots to build self-contained documents. In order to achieve such flexibility, a notebook is composed of cells. There are three types of cells: code, markdown and raw. Default cell type is a code cell. Markdown cells are used for text with embedded LaTeX equations, images, etc. Raw cells include unformatted text and typically rarely used. To switch between cell types you use notebook top menu: Cell -> Cell Type -> Code/Markdown/Raw.\n",
    "\n",
    "Each cell is denoted with **In [ ]**, in case they produce output **Out [ ]** cell appears directly below with the same number that corresresponds to code execution number. \n",
    "\n",
    "Each cell has two modes: **edit** and **command**. In **edit** mode cell content can be modified (outline of the cell is **green**). In command mode (outline of the cell is **blue**) the keys do special actions. Only one cell can be in edit mode/**active** at all times. To identify status of each sell, simply select it and you will see the outline color. To switch to command mode press **esc**.\n",
    "\n",
    "In command mode you can conveniently: change cell type, add or delete cells. For example, to switch between cell types: first press **esc** to get to command mode (outline should be **blue**) then press \"M\" for markdown, \"Y\" for code, \"R\" for raw format. In command mode to add cell below press \"B\", above - \"A\", to delete \"X\"."
   ]
  },
  {
   "cell_type": "code",
   "execution_count": 1,
   "id": "experienced-population",
   "metadata": {},
   "outputs": [],
   "source": [
    "# change code cell to markdown by pressing esc + M\n",
    "\n",
    "# then change code cell to back to code by pressing esc + Y"
   ]
  },
  {
   "cell_type": "code",
   "execution_count": 2,
   "id": "powered-wrestling",
   "metadata": {},
   "outputs": [],
   "source": [
    "# add cell above by presssing esc + B\n"
   ]
  },
  {
   "cell_type": "code",
   "execution_count": 3,
   "id": "quiet-surveillance",
   "metadata": {},
   "outputs": [],
   "source": [
    "# remove cell above by presssing esc + X\n"
   ]
  },
  {
   "cell_type": "markdown",
   "id": "basic-emerald",
   "metadata": {},
   "source": [
    "### Running code"
   ]
  },
  {
   "cell_type": "markdown",
   "id": "covered-poultry",
   "metadata": {},
   "source": [
    "Each code cell is executed via IPython kernel that is connected to the notebook. During execution code is sent to the kerner that generates a result and sends it back to the notebook for display in **Out [ ]** cell. See example below, where two numbers are added.\n",
    "\n",
    "\n",
    "To run the code cell in notebook press **shift** + **enter**. Alternatively you can press **Run** at the top menu."
   ]
  },
  {
   "cell_type": "code",
   "execution_count": 4,
   "id": "regional-night",
   "metadata": {},
   "outputs": [
    {
     "data": {
      "text/plain": [
       "5"
      ]
     },
     "execution_count": 4,
     "metadata": {},
     "output_type": "execute_result"
    }
   ],
   "source": [
    "# press shift enter to execute this cell\n",
    "2 + 3"
   ]
  },
  {
   "cell_type": "markdown",
   "id": "educated-verification",
   "metadata": {},
   "source": [
    "### Tab completion "
   ]
  },
  {
   "cell_type": "markdown",
   "id": "guilty-vegetarian",
   "metadata": {},
   "source": [
    "Tab completion is one of the most popular and convenient features of the notebook. Place your cursor after *var* and press tab. A menu should pop up of all the available choices: *vars*, *variable*."
   ]
  },
  {
   "cell_type": "code",
   "execution_count": 5,
   "id": "spanish-conviction",
   "metadata": {},
   "outputs": [],
   "source": [
    "variable = 5"
   ]
  },
  {
   "cell_type": "code",
   "execution_count": 6,
   "id": "middle-beaver",
   "metadata": {},
   "outputs": [
    {
     "data": {
      "text/plain": [
       "5"
      ]
     },
     "execution_count": 6,
     "metadata": {},
     "output_type": "execute_result"
    }
   ],
   "source": [
    "# Note: execute cell only after auto completing var to variable\n",
    "#otherwise you will get an error\n",
    "var"
   ]
  },
  {
   "cell_type": "markdown",
   "id": "fatal-buffalo",
   "metadata": {},
   "source": [
    "### Docstrings"
   ]
  },
  {
   "cell_type": "markdown",
   "id": "fifty-craft",
   "metadata": {},
   "source": [
    "Docstrings are very useful and helpful in giving us information on how to use the object. For docstring to pop up choose an object and press **shift** + **tab** + **tab** for full docstring or **shift** + **tab** for just a header. . "
   ]
  },
  {
   "cell_type": "code",
   "execution_count": 7,
   "id": "laughing-jenny",
   "metadata": {},
   "outputs": [
    {
     "data": {
      "text/plain": [
       "0"
      ]
     },
     "execution_count": 7,
     "metadata": {},
     "output_type": "execute_result"
    }
   ],
   "source": [
    "int()"
   ]
  },
  {
   "cell_type": "markdown",
   "id": "cutting-ranking",
   "metadata": {},
   "source": [
    "## Built-in magic commands"
   ]
  },
  {
   "cell_type": "markdown",
   "id": "studied-omaha",
   "metadata": {},
   "source": [
    "There are, so-called special magic commands, that can help with running and analyzing data and code performance in your jupyter notebook. See documantation here https://ipython.readthedocs.io/en/stable/interactive/magics.html."
   ]
  },
  {
   "cell_type": "code",
   "execution_count": 8,
   "id": "stuffed-tucson",
   "metadata": {},
   "outputs": [
    {
     "data": {
      "application/json": {
       "cell": {
        "!": "OSMagics",
        "HTML": "Other",
        "SVG": "Other",
        "bash": "Other",
        "capture": "ExecutionMagics",
        "debug": "ExecutionMagics",
        "file": "Other",
        "html": "DisplayMagics",
        "javascript": "DisplayMagics",
        "js": "DisplayMagics",
        "latex": "DisplayMagics",
        "markdown": "DisplayMagics",
        "perl": "Other",
        "prun": "ExecutionMagics",
        "pypy": "Other",
        "python": "Other",
        "python2": "Other",
        "python3": "Other",
        "ruby": "Other",
        "script": "ScriptMagics",
        "sh": "Other",
        "svg": "DisplayMagics",
        "sx": "OSMagics",
        "system": "OSMagics",
        "time": "ExecutionMagics",
        "timeit": "ExecutionMagics",
        "writefile": "OSMagics"
       },
       "line": {
        "alias": "OSMagics",
        "alias_magic": "BasicMagics",
        "autoawait": "AsyncMagics",
        "autocall": "AutoMagics",
        "automagic": "AutoMagics",
        "autosave": "KernelMagics",
        "bookmark": "OSMagics",
        "cat": "Other",
        "cd": "OSMagics",
        "clear": "KernelMagics",
        "colors": "BasicMagics",
        "conda": "PackagingMagics",
        "config": "ConfigMagics",
        "connect_info": "KernelMagics",
        "cp": "Other",
        "debug": "ExecutionMagics",
        "dhist": "OSMagics",
        "dirs": "OSMagics",
        "doctest_mode": "BasicMagics",
        "ed": "Other",
        "edit": "KernelMagics",
        "env": "OSMagics",
        "gui": "BasicMagics",
        "hist": "Other",
        "history": "HistoryMagics",
        "killbgscripts": "ScriptMagics",
        "ldir": "Other",
        "less": "KernelMagics",
        "lf": "Other",
        "lk": "Other",
        "ll": "Other",
        "load": "CodeMagics",
        "load_ext": "ExtensionMagics",
        "loadpy": "CodeMagics",
        "logoff": "LoggingMagics",
        "logon": "LoggingMagics",
        "logstart": "LoggingMagics",
        "logstate": "LoggingMagics",
        "logstop": "LoggingMagics",
        "ls": "Other",
        "lsmagic": "BasicMagics",
        "lx": "Other",
        "macro": "ExecutionMagics",
        "magic": "BasicMagics",
        "man": "KernelMagics",
        "matplotlib": "PylabMagics",
        "mkdir": "Other",
        "more": "KernelMagics",
        "mv": "Other",
        "notebook": "BasicMagics",
        "page": "BasicMagics",
        "pastebin": "CodeMagics",
        "pdb": "ExecutionMagics",
        "pdef": "NamespaceMagics",
        "pdoc": "NamespaceMagics",
        "pfile": "NamespaceMagics",
        "pinfo": "NamespaceMagics",
        "pinfo2": "NamespaceMagics",
        "pip": "PackagingMagics",
        "popd": "OSMagics",
        "pprint": "BasicMagics",
        "precision": "BasicMagics",
        "prun": "ExecutionMagics",
        "psearch": "NamespaceMagics",
        "psource": "NamespaceMagics",
        "pushd": "OSMagics",
        "pwd": "OSMagics",
        "pycat": "OSMagics",
        "pylab": "PylabMagics",
        "qtconsole": "KernelMagics",
        "quickref": "BasicMagics",
        "recall": "HistoryMagics",
        "rehashx": "OSMagics",
        "reload_ext": "ExtensionMagics",
        "rep": "Other",
        "rerun": "HistoryMagics",
        "reset": "NamespaceMagics",
        "reset_selective": "NamespaceMagics",
        "rm": "Other",
        "rmdir": "Other",
        "run": "ExecutionMagics",
        "save": "CodeMagics",
        "sc": "OSMagics",
        "set_env": "OSMagics",
        "store": "StoreMagics",
        "sx": "OSMagics",
        "system": "OSMagics",
        "tb": "ExecutionMagics",
        "time": "ExecutionMagics",
        "timeit": "ExecutionMagics",
        "unalias": "OSMagics",
        "unload_ext": "ExtensionMagics",
        "who": "NamespaceMagics",
        "who_ls": "NamespaceMagics",
        "whos": "NamespaceMagics",
        "xdel": "NamespaceMagics",
        "xmode": "BasicMagics"
       }
      },
      "text/plain": [
       "Available line magics:\n",
       "%alias  %alias_magic  %autoawait  %autocall  %automagic  %autosave  %bookmark  %cat  %cd  %clear  %colors  %conda  %config  %connect_info  %cp  %debug  %dhist  %dirs  %doctest_mode  %ed  %edit  %env  %gui  %hist  %history  %killbgscripts  %ldir  %less  %lf  %lk  %ll  %load  %load_ext  %loadpy  %logoff  %logon  %logstart  %logstate  %logstop  %ls  %lsmagic  %lx  %macro  %magic  %man  %matplotlib  %mkdir  %more  %mv  %notebook  %page  %pastebin  %pdb  %pdef  %pdoc  %pfile  %pinfo  %pinfo2  %pip  %popd  %pprint  %precision  %prun  %psearch  %psource  %pushd  %pwd  %pycat  %pylab  %qtconsole  %quickref  %recall  %rehashx  %reload_ext  %rep  %rerun  %reset  %reset_selective  %rm  %rmdir  %run  %save  %sc  %set_env  %store  %sx  %system  %tb  %time  %timeit  %unalias  %unload_ext  %who  %who_ls  %whos  %xdel  %xmode\n",
       "\n",
       "Available cell magics:\n",
       "%%!  %%HTML  %%SVG  %%bash  %%capture  %%debug  %%file  %%html  %%javascript  %%js  %%latex  %%markdown  %%perl  %%prun  %%pypy  %%python  %%python2  %%python3  %%ruby  %%script  %%sh  %%svg  %%sx  %%system  %%time  %%timeit  %%writefile\n",
       "\n",
       "Automagic is ON, % prefix IS NOT needed for line magics."
      ]
     },
     "execution_count": 8,
     "metadata": {},
     "output_type": "execute_result"
    }
   ],
   "source": [
    "# magic command to list all available magic command\n",
    "%lsmagic"
   ]
  },
  {
   "cell_type": "code",
   "execution_count": 9,
   "id": "enormous-mercury",
   "metadata": {},
   "outputs": [
    {
     "name": "stdout",
     "output_type": "stream",
     "text": [
      "CPU times: user 2 µs, sys: 1e+03 ns, total: 3 µs\n",
      "Wall time: 5.01 µs\n",
      "0\n",
      "1\n",
      "2\n",
      "3\n",
      "4\n"
     ]
    }
   ],
   "source": [
    "# get execution time\n",
    "%time\n",
    "\n",
    "for i in range(5):\n",
    "    print(i)"
   ]
  },
  {
   "cell_type": "code",
   "execution_count": 10,
   "id": "dense-tampa",
   "metadata": {},
   "outputs": [
    {
     "name": "stdout",
     "output_type": "stream",
     "text": [
      "i\t variable\t \n"
     ]
    }
   ],
   "source": [
    "# list all variables\n",
    "%who"
   ]
  },
  {
   "cell_type": "code",
   "execution_count": 11,
   "id": "hispanic-envelope",
   "metadata": {},
   "outputs": [],
   "source": [
    "# load an external file\n",
    "\n",
    "#%load file.py"
   ]
  },
  {
   "cell_type": "code",
   "execution_count": 12,
   "id": "integral-guest",
   "metadata": {},
   "outputs": [],
   "source": [
    "# run a script from jupyter notebook\n",
    "\n",
    "#%run file.py"
   ]
  },
  {
   "cell_type": "markdown",
   "id": "permanent-people",
   "metadata": {},
   "source": [
    "<a id=\"section_markdown\"></a>\n",
    "## Markdown cells styling\n",
    "\n",
    "Here is a great resource: https://commonmark.org/help/tutorial/index.html"
   ]
  },
  {
   "cell_type": "markdown",
   "id": "minus-bishop",
   "metadata": {},
   "source": [
    "**Headings**: use #s followed by a blank space for notebook section headings\n",
    "* \\# Header 1\n",
    "* \\## Header 2\n",
    "* \\### Header 3\n",
    "\n",
    "**Lists**: use *s, -s or numbers followed by a blank space for lists\n",
    "- \\- Apples\n",
    "- \\- Oranges\n",
    "- \\- Pears\n",
    "\n",
    "**Emphasis**:\n",
    "* Bold: \\_\\_string\\_\\_ or \\**string\\** for **string** \n",
    "* Italic: \\_string\\_ or \\*string\\* for *string*\n",
    "\n",
    "**Mathematical symbols**: use $$ for symbols, e.g. $\\alpha$, \n",
    "  \n",
    "**Equations**: supports LaTeX\n",
    "\n",
    "$\\begin{equation*}\n",
    "P(E)   = {n \\choose k} p^k (1-p)^{ n-k} \n",
    "\\end{equation*}$\n",
    "\n",
    "**Colors**: Use this the following code \\<font color=blue|red|green|pink|yellow>Text\\</font>\n",
    "\n",
    "<font color=blue>Text</font>\n",
    "\n",
    "**Indented quoting**: Use a greater than sign (>) and then a space, then type the text. See below.\n",
    "> Text\n",
    "\n",
    "**Horizontal lines**: Use three asterisks: ***. See below.\n",
    "***\n",
    "\n",
    "**Graphics**: You can attach image files directly to a notebook as \\<img src=\"image_file.jpeg\"\\/>\n",
    "\n",
    "<img src=\"python.jpeg\"/>\n",
    "\n",
    "**Geometric shapes**: Various shapes can be displayed by &#reference_number\\;. For reference numbers see \n",
    "[UTF-8 Geometric shapes](https://www.w3schools.com/charsets/ref_utf_geometric.asp).\n",
    "\n",
    "&#9673;\n",
    "\n",
    "**Internal links**: To link to a section, do the following: add id for above the section title <a id=\"section_ID\"></a> and use as \\[section_name\\](#section_ID)\n",
    "\n",
    "[Markdown cells styling](#section_markdown)\n",
    "\n",
    "**External links**: Use this code and test all links! \\[markdown link\\](https://commonmark.org/help/tutorial/index.html)\n",
    "\n",
    "\n",
    "[markdown link](https://commonmark.org/help/tutorial/index.html)"
   ]
  },
  {
   "cell_type": "markdown",
   "id": "improved-parks",
   "metadata": {},
   "source": [
    "To conclude, knowledge of these tricks might improve and even boost your coding performance and collaboration experience."
   ]
  }
 ],
 "metadata": {
  "kernelspec": {
   "display_name": "Python 3",
   "language": "python",
   "name": "python3"
  },
  "language_info": {
   "codemirror_mode": {
    "name": "ipython",
    "version": 3
   },
   "file_extension": ".py",
   "mimetype": "text/x-python",
   "name": "python",
   "nbconvert_exporter": "python",
   "pygments_lexer": "ipython3",
   "version": "3.7.4"
  }
 },
 "nbformat": 4,
 "nbformat_minor": 5
}
